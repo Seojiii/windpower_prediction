{
  "nbformat": 4,
  "nbformat_minor": 0,
  "metadata": {
    "colab": {
      "provenance": [],
      "authorship_tag": "ABX9TyOpejIwVyFtmBhg+sfvkOJh",
      "include_colab_link": true
    },
    "kernelspec": {
      "name": "python3",
      "display_name": "Python 3"
    },
    "language_info": {
      "name": "python"
    }
  },
  "cells": [
    {
      "cell_type": "markdown",
      "metadata": {
        "id": "view-in-github",
        "colab_type": "text"
      },
      "source": [
        "<a href=\"https://colab.research.google.com/github/Seojiii/windpower_prediction/blob/main/02_21.ipynb\" target=\"_parent\"><img src=\"https://colab.research.google.com/assets/colab-badge.svg\" alt=\"Open In Colab\"/></a>"
      ]
    },
    {
      "cell_type": "markdown",
      "source": [
        "## 리스트 자료형"
      ],
      "metadata": {
        "id": "jSDrkldp5Fd3"
      }
    },
    {
      "cell_type": "markdown",
      "source": [
        "### 리스트 컴프리헨션"
      ],
      "metadata": {
        "id": "_fyRLzcd5OE2"
      }
    },
    {
      "cell_type": "markdown",
      "source": [
        "리스트 컴프리헨션은 리스트를 초기화하는 방법 중 하나이다. 리스트 컴프리헨션을 이용하면 대괄호 안에 조건문과 반복문을 넣는 방식으로 리스트를 초기화할 수 있다. 이 경우 한 줄의 소스코드로 리스트를 초기화할 수 있어 매우 간편하다."
      ],
      "metadata": {
        "id": "E938JXaX5PXt"
      }
    },
    {
      "cell_type": "code",
      "source": [
        "# 0부터 19까지의 수 중에서 홀수만 포함하는 리스트트\n",
        "\n",
        "array = [i for i in range(20) if i%2 ==1]\n",
        "print(array)\n",
        "\n",
        "# 훨씬 더간결함함"
      ],
      "metadata": {
        "colab": {
          "base_uri": "https://localhost:8080/"
        },
        "id": "PZjR3pFd6Qrt",
        "outputId": "f3bb29ad-8d5e-4576-a3d1-f85c031364c8"
      },
      "execution_count": 2,
      "outputs": [
        {
          "output_type": "stream",
          "name": "stdout",
          "text": [
            "[1, 3, 5, 7, 9, 11, 13, 15, 17, 19]\n"
          ]
        }
      ]
    },
    {
      "cell_type": "markdown",
      "source": [
        "코테에서 2차원 리스트를 초기화할 때 매우 효과적으로 활용된다.  \n",
        "N X M 크기의 2차원 리스트를 초기화할 때 다음과 같이 사용한다.\n"
      ],
      "metadata": {
        "id": "ujT_UPPY6Xj6"
      }
    },
    {
      "cell_type": "code",
      "source": [
        "n=3\n",
        "m=4\n",
        "array = [[0] * m for _ in range(n)]\n",
        "print(array)"
      ],
      "metadata": {
        "colab": {
          "base_uri": "https://localhost:8080/"
        },
        "id": "CzGYAuVq61Hi",
        "outputId": "a84e6cf5-6284-4b25-c671-59bf2db69001"
      },
      "execution_count": 3,
      "outputs": [
        {
          "output_type": "stream",
          "name": "stdout",
          "text": [
            "[[0, 0, 0, 0], [0, 0, 0, 0], [0, 0, 0, 0]]\n"
          ]
        }
      ]
    },
    {
      "cell_type": "markdown",
      "source": [
        "* 언더바(_)  \n",
        "반복을 수행하되 반복을 위한 변수의 값을 무시하고자 할 때"
      ],
      "metadata": {
        "id": "NvNlpY4X7ExM"
      }
    },
    {
      "cell_type": "markdown",
      "source": [
        "참고로 특정 크기의 2차원 리스트를 초기화할 때는 반드시 리스트 컴프리헨션을 이용해야 한다. 만약 다음과같이 초기화한다면 의도하지 않은 결과가 나올 것"
      ],
      "metadata": {
        "id": "cVwIDz4j7Wdv"
      }
    },
    {
      "cell_type": "code",
      "source": [
        "from posixpath import normpath\n",
        "n=3\n",
        "m=4\n",
        "array = [[0]*m]*n\n",
        "print(array)\n",
        "\n",
        "array[1][1] = 5\n",
        "print(array)"
      ],
      "metadata": {
        "colab": {
          "base_uri": "https://localhost:8080/"
        },
        "id": "-mMp97EM7iGp",
        "outputId": "910ee9b6-76b7-4f0f-9894-d35ff584cc2d"
      },
      "execution_count": 4,
      "outputs": [
        {
          "output_type": "stream",
          "name": "stdout",
          "text": [
            "[[0, 0, 0, 0], [0, 0, 0, 0], [0, 0, 0, 0]]\n",
            "[[0, 5, 0, 0], [0, 5, 0, 0], [0, 5, 0, 0]]\n"
          ]
        }
      ]
    },
    {
      "cell_type": "markdown",
      "source": [
        "[1][1]의 값을 5로 바꿨는데 모든 원소의 [1]값이 5로 바뀜  \n",
        "이는 내부적으로 포함된 3개의 리스트가 모두 동일한 객체에 대한 3개의 레퍼런스로 인식  \n",
        "특정한 크기를 하지는 2차원 리스트 초기화할 때 리스트 컴프리헨션을 이용해야 함\n"
      ],
      "metadata": {
        "id": "QeevyFTJ7wWS"
      }
    },
    {
      "cell_type": "markdown",
      "source": [
        "### 리스트 관련 기타 메서드"
      ],
      "metadata": {
        "id": "6UNb4mCx8Hdt"
      }
    },
    {
      "cell_type": "code",
      "source": [
        "a = [1,4,3]\n",
        "print('기본: ',a)\n",
        "\n",
        "# 리스트에 원소 삽입\n",
        "a.append(2)\n",
        "print('삽입: ',a)\n",
        "\n",
        "# 오름차순 정렬\n",
        "a.sort()\n",
        "print('오름름: ',a)\n",
        "\n",
        "# 내림차순\n",
        "a.sort(reverse=True)\n",
        "print('내림: ',a)\n",
        "\n",
        "# 원소 뒤집기\n",
        "a.reverse()\n",
        "print('뒤집기: ',a)\n",
        "\n",
        "# 특정 인덱스에 데이터 추가\n",
        "a.insert(2,3)\n",
        "print('2에 3 추가: ',a)\n",
        "\n",
        "# 특정 값 데이터 삭제\n",
        "a.remove(1)\n",
        "print('1삭제: ',a)"
      ],
      "metadata": {
        "colab": {
          "base_uri": "https://localhost:8080/"
        },
        "id": "AqV0US078OVF",
        "outputId": "46377a7f-ffec-4277-9ea1-451cc632d0ce"
      },
      "execution_count": 6,
      "outputs": [
        {
          "output_type": "stream",
          "name": "stdout",
          "text": [
            "기본:  [1, 4, 3]\n",
            "삽입:  [1, 4, 3, 2]\n",
            "오름름:  [1, 2, 3, 4]\n",
            "내림:  [4, 3, 2, 1]\n",
            "뒤집기:  [1, 2, 3, 4]\n",
            "2에 3 추가:  [1, 2, 3, 3, 4]\n",
            "1삭제:  [2, 3, 3, 4]\n"
          ]
        }
      ]
    },
    {
      "cell_type": "markdown",
      "source": [
        "insert 와 remove는 시간복잡도가 높음  \n",
        "특정 값의 원소를 제거하려면 어떻게 해야할까?  \n",
        "a에 포함된 원소를 하나씩 확인하며 그 원소가 set에 포함되어있지 ㅇ낳을대만 result에 넣음"
      ],
      "metadata": {
        "id": "CBUlIH5m8u0J"
      }
    },
    {
      "cell_type": "code",
      "source": [
        "a=[1,2,3,4,5,5,5]\n",
        "remove_set={3,5}\n",
        "\n",
        "result = [i for i in a if i not in remove_set]\n",
        "print(result)"
      ],
      "metadata": {
        "colab": {
          "base_uri": "https://localhost:8080/"
        },
        "id": "6pN2sy1J9YIk",
        "outputId": "c6a6297b-edc2-47b0-dcdd-8bada841d0ce"
      },
      "execution_count": 8,
      "outputs": [
        {
          "output_type": "stream",
          "name": "stdout",
          "text": [
            "[1, 2, 4]\n"
          ]
        }
      ]
    },
    {
      "cell_type": "markdown",
      "source": [
        "## 튜플 자료형"
      ],
      "metadata": {
        "id": "GvNGLZzu-KnV"
      }
    },
    {
      "cell_type": "markdown",
      "source": [
        "리스트와 비슷한데 다음과 같은 차이가 있다  \n",
        "- 한번 선언된 값을 변경할 수 없다.\n",
        "- 리스트는 대괄호 이용하지만 튜플은 소괄호 이용"
      ],
      "metadata": {
        "id": "S5iLBxgz-RQg"
      }
    },
    {
      "cell_type": "markdown",
      "source": [
        "## 집합 자료형"
      ],
      "metadata": {
        "id": "ggzKSlal-Qfj"
      }
    },
    {
      "cell_type": "markdown",
      "source": [
        "- 중복을 허용하지 않는다\n",
        "- 순서가 없다\n",
        "\n",
        "특정한 데이터가 이미 등장한 적이 있는지 여부를 체크할 때 효과적이다."
      ],
      "metadata": {
        "id": "7OlHwi5n-16F"
      }
    },
    {
      "cell_type": "markdown",
      "source": [
        "### 집합자료형의 연산"
      ],
      "metadata": {
        "id": "6ZmtoZUS-7Xz"
      }
    },
    {
      "cell_type": "code",
      "source": [
        "a = set([1,2,3,4,5])\n",
        "b = set([3,4,5,6,7])\n",
        "\n",
        "print(a|b) # 합집합\n",
        "print(a&b) # 교집합\n",
        "print(a-b) # 차집합"
      ],
      "metadata": {
        "colab": {
          "base_uri": "https://localhost:8080/"
        },
        "id": "HHNb7F93_rZ3",
        "outputId": "dd87bcb7-336e-4acd-9229-429ca2a5c4b9"
      },
      "execution_count": 11,
      "outputs": [
        {
          "output_type": "stream",
          "name": "stdout",
          "text": [
            "{1, 2, 3, 4, 5, 6, 7}\n",
            "{3, 4, 5}\n",
            "{1, 2}\n"
          ]
        }
      ]
    },
    {
      "cell_type": "markdown",
      "source": [
        "### 관련 함수"
      ],
      "metadata": {
        "id": "M1XckBkp_1CE"
      }
    },
    {
      "cell_type": "code",
      "source": [
        "data = set([1,2,3])\n",
        "print(data)\n",
        "\n",
        "# 새로운 원소 추가\n",
        "data.add(4)\n",
        "print(data)\n",
        "\n",
        "# 새로운 원소 여러개 추가\n",
        "data.update([5,6])\n",
        "print(data)\n",
        "\n",
        "data.remove(3)\n",
        "print(data)"
      ],
      "metadata": {
        "colab": {
          "base_uri": "https://localhost:8080/"
        },
        "id": "pCzMPNyF__0q",
        "outputId": "04ce223d-8dde-4818-df75-cdee23f20940"
      },
      "execution_count": 12,
      "outputs": [
        {
          "output_type": "stream",
          "name": "stdout",
          "text": [
            "{1, 2, 3}\n",
            "{1, 2, 3, 4}\n",
            "{1, 2, 3, 4, 5, 6}\n",
            "{1, 2, 4, 5, 6}\n"
          ]
        }
      ]
    },
    {
      "cell_type": "code",
      "source": [],
      "metadata": {
        "id": "mD6QF8-SAQv6"
      },
      "execution_count": null,
      "outputs": []
    }
  ]
}